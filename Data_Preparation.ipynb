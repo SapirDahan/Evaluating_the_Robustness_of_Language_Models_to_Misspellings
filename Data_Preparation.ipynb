{
 "cells": [
  {
   "metadata": {},
   "cell_type": "markdown",
   "source": [
    "# Data Preparation and Augmentation\n",
    "\n",
    " This notebook loads the questions and misspellings datasets, generates augmented variants (with 0, 1, …, up to N misspellings),\n",
    " and saves the results in `data/augmented_questions.csv`.\n",
    "The augmentation function automatically adjusts the maximum errors based on eligible words in each question.\n"
   ],
   "id": "8d7578cd9871bd17"
  },
  {
   "cell_type": "code",
   "id": "initial_id",
   "metadata": {
    "collapsed": true,
    "ExecuteTime": {
     "end_time": "2025-04-14T17:23:21.840167Z",
     "start_time": "2025-04-14T17:23:21.831173Z"
    }
   },
   "source": [
    "import pandas as pd\n",
    "from src.data_io import load_questions, load_misspellings\n",
    "from src.misspelling_augmenter import generate_augmented_variants\n",
    "\n",
    "# Load the questions dataset.\n",
    "questions_df = load_questions('data/questions.csv')\n",
    "print(\"DEBUG - Loaded questions:\", questions_df.shape)\n",
    "\n",
    "# Load the misspellings dictionary.\n",
    "misspellings_dict = load_misspellings('data/misspellings.csv')\n",
    "print(\"DEBUG - Misspellings dictionary has\", len(misspellings_dict), \"entries.\")\n",
    "\n",
    "# Process each question to generate augmented variants.\n",
    "augmented_variants = []\n",
    "for idx, row in questions_df.iterrows():\n",
    "    original_text = row['question']\n",
    "    variants = generate_augmented_variants(original_text, misspellings_dict, max_errors=10)\n",
    "    for variant_text, error_count in variants:\n",
    "        augmented_variants.append({\n",
    "            'original_question': original_text,\n",
    "            'variant_question': variant_text,\n",
    "            'error_count': error_count\n",
    "        })\n",
    "\n",
    "augmented_df = pd.DataFrame(augmented_variants)\n",
    "print(\"DEBUG - Augmented dataset shape:\", augmented_df.shape)\n",
    "\n",
    "# Save the augmented questions to a CSV file.\n",
    "augmented_df.to_csv('data/augmented_questions.csv', index=False)\n",
    "print(\"DEBUG - Augmented questions saved at data/augmented_questions.csv\")"
   ],
   "outputs": [
    {
     "name": "stdout",
     "output_type": "stream",
     "text": [
      "DEBUG - Loaded questions: (1, 1)\n",
      "DEBUG - Misspellings dictionary has 1 entries.\n",
      "DEBUG - Augmented dataset shape: (2, 3)\n",
      "DEBUG - Augmented questions saved at data/augmented_questions.csv\n"
     ]
    }
   ],
   "execution_count": 32
  }
 ],
 "metadata": {
  "kernelspec": {
   "display_name": "Python 3",
   "language": "python",
   "name": "python3"
  },
  "language_info": {
   "codemirror_mode": {
    "name": "ipython",
    "version": 2
   },
   "file_extension": ".py",
   "mimetype": "text/x-python",
   "name": "python",
   "nbconvert_exporter": "python",
   "pygments_lexer": "ipython2",
   "version": "2.7.6"
  }
 },
 "nbformat": 4,
 "nbformat_minor": 5
}
