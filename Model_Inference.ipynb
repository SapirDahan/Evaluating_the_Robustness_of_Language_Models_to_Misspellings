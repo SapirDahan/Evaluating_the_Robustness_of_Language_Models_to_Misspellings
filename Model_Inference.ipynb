{
 "cells": [
  {
   "metadata": {},
   "cell_type": "markdown",
   "source": [
    "# Model Inference\n",
    "This notebook loads the augmented questions and runs inference using over 20 HuggingFace language models.\n",
    "All model outputs (with metadata) are saved in `data/model_outputs.csv` for later analysis.\n"
   ],
   "id": "40a7caa5ea669f86"
  },
  {
   "cell_type": "code",
   "id": "initial_id",
   "metadata": {
    "collapsed": true,
    "ExecuteTime": {
     "end_time": "2025-04-15T14:49:43.924362Z",
     "start_time": "2025-04-15T14:49:43.575380Z"
    }
   },
   "source": [
    "import pandas as pd\n",
    "from tqdm import tqdm\n",
    "from src.hf_model_inference import load_model_pipeline, query_model\n",
    "\n",
    "# Load the augmented questions\n",
    "augmented_df = pd.read_csv('data/augmented_questions.csv')\n",
    "print(\"Loaded augmented dataset:\", augmented_df.shape)\n",
    "\n",
    "# Define a list of 20+ model names (adjust or extend as desired)\n",
    "model_names = [\n",
    "    \"gpt2\",\n",
    "    \"EleutherAI/gpt-neo-125M\",\n",
    "    \"EleutherAI/gpt-neo-1.3B\",\n",
    "    \"EleutherAI/gpt-neo-2.7B\",\n",
    "    \"microsoft/DialoGPT-small\",\n",
    "    \"microsoft/DialoGPT-medium\",\n",
    "    \"microsoft/DialoGPT-large\",\n",
    "    \"facebook/blenderbot-400M-distill\",\n",
    "    \"facebook/blenderbot-90M\",\n",
    "    \"gpt2-medium\",\n",
    "    \"gpt2-large\",\n",
    "    \"distilgpt2\",\n",
    "    \"t5-small\",\n",
    "    \"t5-base\",\n",
    "    \"t5-large\",\n",
    "    \"bigscience/bloom-560m\",\n",
    "    \"bigscience/bloom-1b1\",\n",
    "    \"bigscience/bloom-3b\",\n",
    "    \"EleutherAI/gpt-j-6B\",\n",
    "    \"ctrl\"\n",
    "]\n",
    "\n",
    "# Load the pipelines for each model\n",
    "model_pipelines = {}\n",
    "for m in model_names:\n",
    "    try:\n",
    "        print(f\"Loading model: {m}\")\n",
    "        model_pipelines[m] = load_model_pipeline(m)\n",
    "    except Exception as e:\n",
    "        print(f\"Failed to load model {m}: {e}\")\n",
    "\n",
    "# Run inference: for every question variant and model, query the model and record its output\n",
    "outputs = []\n",
    "for idx, row in tqdm(augmented_df.iterrows(), total=len(augmented_df)):\n",
    "    question_variant = row['variant_question']\n",
    "    original_question = row['original_question']\n",
    "    error_count = row['error_count']\n",
    "    for model_name, pipe in model_pipelines.items():\n",
    "        try:\n",
    "            output_text = query_model(pipe, question_variant)\n",
    "        except Exception as e:\n",
    "            output_text = f\"Error: {e}\"\n",
    "        outputs.append({\n",
    "            'original_question': original_question,\n",
    "            'variant_question': question_variant,\n",
    "            'error_count': error_count,\n",
    "            'model_name': model_name,\n",
    "            'model_output': output_text\n",
    "        })\n",
    "\n",
    "outputs_df = pd.DataFrame(outputs)\n",
    "outputs_df.to_csv('data/model_outputs.csv', index=False)\n",
    "print(\"Model outputs saved at data/model_outputs.csv\")"
   ],
   "outputs": [
    {
     "ename": "AttributeError",
     "evalue": "partially initialized module 'pandas' has no attribute '_pandas_parser_CAPI' (most likely due to a circular import)",
     "output_type": "error",
     "traceback": [
      "\u001B[1;31m---------------------------------------------------------------------------\u001B[0m",
      "\u001B[1;31mAttributeError\u001B[0m                            Traceback (most recent call last)",
      "Cell \u001B[1;32mIn[3], line 1\u001B[0m\n\u001B[1;32m----> 1\u001B[0m \u001B[38;5;28;01mimport\u001B[39;00m \u001B[38;5;21;01mpandas\u001B[39;00m \u001B[38;5;28;01mas\u001B[39;00m \u001B[38;5;21;01mpd\u001B[39;00m\n\u001B[0;32m      2\u001B[0m \u001B[38;5;28;01mfrom\u001B[39;00m \u001B[38;5;21;01mtqdm\u001B[39;00m \u001B[38;5;28;01mimport\u001B[39;00m tqdm\n\u001B[0;32m      3\u001B[0m \u001B[38;5;28;01mfrom\u001B[39;00m \u001B[38;5;21;01msrc\u001B[39;00m\u001B[38;5;21;01m.\u001B[39;00m\u001B[38;5;21;01mhf_model_inference\u001B[39;00m \u001B[38;5;28;01mimport\u001B[39;00m load_model_pipeline, query_model\n",
      "File \u001B[1;32m~\\anaconda3\\envs\\sapir\\Lib\\site-packages\\pandas\\__init__.py:138\u001B[0m\n\u001B[0;32m    119\u001B[0m \u001B[38;5;28;01mfrom\u001B[39;00m \u001B[38;5;21;01mpandas\u001B[39;00m\u001B[38;5;21;01m.\u001B[39;00m\u001B[38;5;21;01mcore\u001B[39;00m\u001B[38;5;21;01m.\u001B[39;00m\u001B[38;5;21;01mcomputation\u001B[39;00m\u001B[38;5;21;01m.\u001B[39;00m\u001B[38;5;21;01mapi\u001B[39;00m \u001B[38;5;28;01mimport\u001B[39;00m \u001B[38;5;28meval\u001B[39m\n\u001B[0;32m    121\u001B[0m \u001B[38;5;28;01mfrom\u001B[39;00m \u001B[38;5;21;01mpandas\u001B[39;00m\u001B[38;5;21;01m.\u001B[39;00m\u001B[38;5;21;01mcore\u001B[39;00m\u001B[38;5;21;01m.\u001B[39;00m\u001B[38;5;21;01mreshape\u001B[39;00m\u001B[38;5;21;01m.\u001B[39;00m\u001B[38;5;21;01mapi\u001B[39;00m \u001B[38;5;28;01mimport\u001B[39;00m (\n\u001B[0;32m    122\u001B[0m     concat,\n\u001B[0;32m    123\u001B[0m     lreshape,\n\u001B[1;32m   (...)\u001B[0m\n\u001B[0;32m    135\u001B[0m     qcut,\n\u001B[0;32m    136\u001B[0m )\n\u001B[1;32m--> 138\u001B[0m \u001B[38;5;28;01mfrom\u001B[39;00m \u001B[38;5;21;01mpandas\u001B[39;00m \u001B[38;5;28;01mimport\u001B[39;00m api, arrays, errors, io, plotting, tseries\n\u001B[0;32m    139\u001B[0m \u001B[38;5;28;01mfrom\u001B[39;00m \u001B[38;5;21;01mpandas\u001B[39;00m \u001B[38;5;28;01mimport\u001B[39;00m testing\n\u001B[0;32m    140\u001B[0m \u001B[38;5;28;01mfrom\u001B[39;00m \u001B[38;5;21;01mpandas\u001B[39;00m\u001B[38;5;21;01m.\u001B[39;00m\u001B[38;5;21;01mutil\u001B[39;00m\u001B[38;5;21;01m.\u001B[39;00m\u001B[38;5;21;01m_print_versions\u001B[39;00m \u001B[38;5;28;01mimport\u001B[39;00m show_versions\n",
      "File \u001B[1;32m~\\anaconda3\\envs\\sapir\\Lib\\site-packages\\pandas\\api\\__init__.py:2\u001B[0m\n\u001B[0;32m      1\u001B[0m \u001B[38;5;124;03m\"\"\" public toolkit API \"\"\"\u001B[39;00m\n\u001B[1;32m----> 2\u001B[0m \u001B[38;5;28;01mfrom\u001B[39;00m \u001B[38;5;21;01mpandas\u001B[39;00m\u001B[38;5;21;01m.\u001B[39;00m\u001B[38;5;21;01mapi\u001B[39;00m \u001B[38;5;28;01mimport\u001B[39;00m (\n\u001B[0;32m      3\u001B[0m     extensions,\n\u001B[0;32m      4\u001B[0m     indexers,\n\u001B[0;32m      5\u001B[0m     interchange,\n\u001B[0;32m      6\u001B[0m     types,\n\u001B[0;32m      7\u001B[0m     typing,\n\u001B[0;32m      8\u001B[0m )\n\u001B[0;32m     10\u001B[0m __all__ \u001B[38;5;241m=\u001B[39m [\n\u001B[0;32m     11\u001B[0m     \u001B[38;5;124m\"\u001B[39m\u001B[38;5;124minterchange\u001B[39m\u001B[38;5;124m\"\u001B[39m,\n\u001B[0;32m     12\u001B[0m     \u001B[38;5;124m\"\u001B[39m\u001B[38;5;124mextensions\u001B[39m\u001B[38;5;124m\"\u001B[39m,\n\u001B[1;32m   (...)\u001B[0m\n\u001B[0;32m     15\u001B[0m     \u001B[38;5;124m\"\u001B[39m\u001B[38;5;124mtyping\u001B[39m\u001B[38;5;124m\"\u001B[39m,\n\u001B[0;32m     16\u001B[0m ]\n",
      "File \u001B[1;32m~\\anaconda3\\envs\\sapir\\Lib\\site-packages\\pandas\\api\\typing\\__init__.py:31\u001B[0m\n\u001B[0;32m     19\u001B[0m \u001B[38;5;28;01mfrom\u001B[39;00m \u001B[38;5;21;01mpandas\u001B[39;00m\u001B[38;5;21;01m.\u001B[39;00m\u001B[38;5;21;01mcore\u001B[39;00m\u001B[38;5;21;01m.\u001B[39;00m\u001B[38;5;21;01mwindow\u001B[39;00m \u001B[38;5;28;01mimport\u001B[39;00m (\n\u001B[0;32m     20\u001B[0m     Expanding,\n\u001B[0;32m     21\u001B[0m     ExpandingGroupby,\n\u001B[1;32m   (...)\u001B[0m\n\u001B[0;32m     26\u001B[0m     Window,\n\u001B[0;32m     27\u001B[0m )\n\u001B[0;32m     29\u001B[0m \u001B[38;5;66;03m# TODO: Can't import Styler without importing jinja2\u001B[39;00m\n\u001B[0;32m     30\u001B[0m \u001B[38;5;66;03m# from pandas.io.formats.style import Styler\u001B[39;00m\n\u001B[1;32m---> 31\u001B[0m \u001B[38;5;28;01mfrom\u001B[39;00m \u001B[38;5;21;01mpandas\u001B[39;00m\u001B[38;5;21;01m.\u001B[39;00m\u001B[38;5;21;01mio\u001B[39;00m\u001B[38;5;21;01m.\u001B[39;00m\u001B[38;5;21;01mjson\u001B[39;00m\u001B[38;5;21;01m.\u001B[39;00m\u001B[38;5;21;01m_json\u001B[39;00m \u001B[38;5;28;01mimport\u001B[39;00m JsonReader\n\u001B[0;32m     32\u001B[0m \u001B[38;5;28;01mfrom\u001B[39;00m \u001B[38;5;21;01mpandas\u001B[39;00m\u001B[38;5;21;01m.\u001B[39;00m\u001B[38;5;21;01mio\u001B[39;00m\u001B[38;5;21;01m.\u001B[39;00m\u001B[38;5;21;01mstata\u001B[39;00m \u001B[38;5;28;01mimport\u001B[39;00m StataReader\n\u001B[0;32m     34\u001B[0m __all__ \u001B[38;5;241m=\u001B[39m [\n\u001B[0;32m     35\u001B[0m     \u001B[38;5;124m\"\u001B[39m\u001B[38;5;124mDataFrameGroupBy\u001B[39m\u001B[38;5;124m\"\u001B[39m,\n\u001B[0;32m     36\u001B[0m     \u001B[38;5;124m\"\u001B[39m\u001B[38;5;124mDatetimeIndexResamplerGroupby\u001B[39m\u001B[38;5;124m\"\u001B[39m,\n\u001B[1;32m   (...)\u001B[0m\n\u001B[0;32m     54\u001B[0m     \u001B[38;5;124m\"\u001B[39m\u001B[38;5;124mWindow\u001B[39m\u001B[38;5;124m\"\u001B[39m,\n\u001B[0;32m     55\u001B[0m ]\n",
      "File \u001B[1;32m~\\anaconda3\\envs\\sapir\\Lib\\site-packages\\pandas\\io\\json\\__init__.py:1\u001B[0m\n\u001B[1;32m----> 1\u001B[0m \u001B[38;5;28;01mfrom\u001B[39;00m \u001B[38;5;21;01mpandas\u001B[39;00m\u001B[38;5;21;01m.\u001B[39;00m\u001B[38;5;21;01mio\u001B[39;00m\u001B[38;5;21;01m.\u001B[39;00m\u001B[38;5;21;01mjson\u001B[39;00m\u001B[38;5;21;01m.\u001B[39;00m\u001B[38;5;21;01m_json\u001B[39;00m \u001B[38;5;28;01mimport\u001B[39;00m (\n\u001B[0;32m      2\u001B[0m     read_json,\n\u001B[0;32m      3\u001B[0m     to_json,\n\u001B[0;32m      4\u001B[0m     ujson_dumps,\n\u001B[0;32m      5\u001B[0m     ujson_loads,\n\u001B[0;32m      6\u001B[0m )\n\u001B[0;32m      7\u001B[0m \u001B[38;5;28;01mfrom\u001B[39;00m \u001B[38;5;21;01mpandas\u001B[39;00m\u001B[38;5;21;01m.\u001B[39;00m\u001B[38;5;21;01mio\u001B[39;00m\u001B[38;5;21;01m.\u001B[39;00m\u001B[38;5;21;01mjson\u001B[39;00m\u001B[38;5;21;01m.\u001B[39;00m\u001B[38;5;21;01m_table_schema\u001B[39;00m \u001B[38;5;28;01mimport\u001B[39;00m build_table_schema\n\u001B[0;32m      9\u001B[0m __all__ \u001B[38;5;241m=\u001B[39m [\n\u001B[0;32m     10\u001B[0m     \u001B[38;5;124m\"\u001B[39m\u001B[38;5;124mujson_dumps\u001B[39m\u001B[38;5;124m\"\u001B[39m,\n\u001B[0;32m     11\u001B[0m     \u001B[38;5;124m\"\u001B[39m\u001B[38;5;124mujson_loads\u001B[39m\u001B[38;5;124m\"\u001B[39m,\n\u001B[1;32m   (...)\u001B[0m\n\u001B[0;32m     14\u001B[0m     \u001B[38;5;124m\"\u001B[39m\u001B[38;5;124mbuild_table_schema\u001B[39m\u001B[38;5;124m\"\u001B[39m,\n\u001B[0;32m     15\u001B[0m ]\n",
      "File \u001B[1;32m~\\anaconda3\\envs\\sapir\\Lib\\site-packages\\pandas\\io\\json\\_json.py:71\u001B[0m\n\u001B[0;32m     66\u001B[0m \u001B[38;5;28;01mfrom\u001B[39;00m \u001B[38;5;21;01mpandas\u001B[39;00m\u001B[38;5;21;01m.\u001B[39;00m\u001B[38;5;21;01mio\u001B[39;00m\u001B[38;5;21;01m.\u001B[39;00m\u001B[38;5;21;01mjson\u001B[39;00m\u001B[38;5;21;01m.\u001B[39;00m\u001B[38;5;21;01m_normalize\u001B[39;00m \u001B[38;5;28;01mimport\u001B[39;00m convert_to_line_delimits\n\u001B[0;32m     67\u001B[0m \u001B[38;5;28;01mfrom\u001B[39;00m \u001B[38;5;21;01mpandas\u001B[39;00m\u001B[38;5;21;01m.\u001B[39;00m\u001B[38;5;21;01mio\u001B[39;00m\u001B[38;5;21;01m.\u001B[39;00m\u001B[38;5;21;01mjson\u001B[39;00m\u001B[38;5;21;01m.\u001B[39;00m\u001B[38;5;21;01m_table_schema\u001B[39;00m \u001B[38;5;28;01mimport\u001B[39;00m (\n\u001B[0;32m     68\u001B[0m     build_table_schema,\n\u001B[0;32m     69\u001B[0m     parse_table_schema,\n\u001B[0;32m     70\u001B[0m )\n\u001B[1;32m---> 71\u001B[0m \u001B[38;5;28;01mfrom\u001B[39;00m \u001B[38;5;21;01mpandas\u001B[39;00m\u001B[38;5;21;01m.\u001B[39;00m\u001B[38;5;21;01mio\u001B[39;00m\u001B[38;5;21;01m.\u001B[39;00m\u001B[38;5;21;01mparsers\u001B[39;00m\u001B[38;5;21;01m.\u001B[39;00m\u001B[38;5;21;01mreaders\u001B[39;00m \u001B[38;5;28;01mimport\u001B[39;00m validate_integer\n\u001B[0;32m     73\u001B[0m \u001B[38;5;28;01mif\u001B[39;00m TYPE_CHECKING:\n\u001B[0;32m     74\u001B[0m     \u001B[38;5;28;01mfrom\u001B[39;00m \u001B[38;5;21;01mcollections\u001B[39;00m\u001B[38;5;21;01m.\u001B[39;00m\u001B[38;5;21;01mabc\u001B[39;00m \u001B[38;5;28;01mimport\u001B[39;00m (\n\u001B[0;32m     75\u001B[0m         Hashable,\n\u001B[0;32m     76\u001B[0m         Mapping,\n\u001B[0;32m     77\u001B[0m     )\n",
      "File \u001B[1;32m~\\anaconda3\\envs\\sapir\\Lib\\site-packages\\pandas\\io\\parsers\\__init__.py:1\u001B[0m\n\u001B[1;32m----> 1\u001B[0m \u001B[38;5;28;01mfrom\u001B[39;00m \u001B[38;5;21;01mpandas\u001B[39;00m\u001B[38;5;21;01m.\u001B[39;00m\u001B[38;5;21;01mio\u001B[39;00m\u001B[38;5;21;01m.\u001B[39;00m\u001B[38;5;21;01mparsers\u001B[39;00m\u001B[38;5;21;01m.\u001B[39;00m\u001B[38;5;21;01mreaders\u001B[39;00m \u001B[38;5;28;01mimport\u001B[39;00m (\n\u001B[0;32m      2\u001B[0m     TextFileReader,\n\u001B[0;32m      3\u001B[0m     TextParser,\n\u001B[0;32m      4\u001B[0m     read_csv,\n\u001B[0;32m      5\u001B[0m     read_fwf,\n\u001B[0;32m      6\u001B[0m     read_table,\n\u001B[0;32m      7\u001B[0m )\n\u001B[0;32m      9\u001B[0m __all__ \u001B[38;5;241m=\u001B[39m [\u001B[38;5;124m\"\u001B[39m\u001B[38;5;124mTextFileReader\u001B[39m\u001B[38;5;124m\"\u001B[39m, \u001B[38;5;124m\"\u001B[39m\u001B[38;5;124mTextParser\u001B[39m\u001B[38;5;124m\"\u001B[39m, \u001B[38;5;124m\"\u001B[39m\u001B[38;5;124mread_csv\u001B[39m\u001B[38;5;124m\"\u001B[39m, \u001B[38;5;124m\"\u001B[39m\u001B[38;5;124mread_fwf\u001B[39m\u001B[38;5;124m\"\u001B[39m, \u001B[38;5;124m\"\u001B[39m\u001B[38;5;124mread_table\u001B[39m\u001B[38;5;124m\"\u001B[39m]\n",
      "File \u001B[1;32m~\\anaconda3\\envs\\sapir\\Lib\\site-packages\\pandas\\io\\parsers\\readers.py:32\u001B[0m\n\u001B[0;32m     29\u001B[0m \u001B[38;5;28;01mfrom\u001B[39;00m \u001B[38;5;21;01mpandas\u001B[39;00m\u001B[38;5;21;01m.\u001B[39;00m\u001B[38;5;21;01m_config\u001B[39;00m \u001B[38;5;28;01mimport\u001B[39;00m using_copy_on_write\n\u001B[0;32m     31\u001B[0m \u001B[38;5;28;01mfrom\u001B[39;00m \u001B[38;5;21;01mpandas\u001B[39;00m\u001B[38;5;21;01m.\u001B[39;00m\u001B[38;5;21;01m_libs\u001B[39;00m \u001B[38;5;28;01mimport\u001B[39;00m lib\n\u001B[1;32m---> 32\u001B[0m \u001B[38;5;28;01mfrom\u001B[39;00m \u001B[38;5;21;01mpandas\u001B[39;00m\u001B[38;5;21;01m.\u001B[39;00m\u001B[38;5;21;01m_libs\u001B[39;00m\u001B[38;5;21;01m.\u001B[39;00m\u001B[38;5;21;01mparsers\u001B[39;00m \u001B[38;5;28;01mimport\u001B[39;00m STR_NA_VALUES\n\u001B[0;32m     33\u001B[0m \u001B[38;5;28;01mfrom\u001B[39;00m \u001B[38;5;21;01mpandas\u001B[39;00m\u001B[38;5;21;01m.\u001B[39;00m\u001B[38;5;21;01merrors\u001B[39;00m \u001B[38;5;28;01mimport\u001B[39;00m (\n\u001B[0;32m     34\u001B[0m     AbstractMethodError,\n\u001B[0;32m     35\u001B[0m     ParserWarning,\n\u001B[0;32m     36\u001B[0m )\n\u001B[0;32m     37\u001B[0m \u001B[38;5;28;01mfrom\u001B[39;00m \u001B[38;5;21;01mpandas\u001B[39;00m\u001B[38;5;21;01m.\u001B[39;00m\u001B[38;5;21;01mutil\u001B[39;00m\u001B[38;5;21;01m.\u001B[39;00m\u001B[38;5;21;01m_decorators\u001B[39;00m \u001B[38;5;28;01mimport\u001B[39;00m Appender\n",
      "File \u001B[1;32mparsers.pyx:1418\u001B[0m, in \u001B[0;36minit pandas._libs.parsers\u001B[1;34m()\u001B[0m\n",
      "\u001B[1;31mAttributeError\u001B[0m: partially initialized module 'pandas' has no attribute '_pandas_parser_CAPI' (most likely due to a circular import)"
     ]
    }
   ],
   "execution_count": 3
  }
 ],
 "metadata": {
  "kernelspec": {
   "display_name": "Python 3",
   "language": "python",
   "name": "python3"
  },
  "language_info": {
   "codemirror_mode": {
    "name": "ipython",
    "version": 2
   },
   "file_extension": ".py",
   "mimetype": "text/x-python",
   "name": "python",
   "nbconvert_exporter": "python",
   "pygments_lexer": "ipython2",
   "version": "2.7.6"
  }
 },
 "nbformat": 4,
 "nbformat_minor": 5
}
